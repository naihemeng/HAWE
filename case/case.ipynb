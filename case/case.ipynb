{
 "cells": [
  {
   "cell_type": "code",
   "execution_count": 95,
   "metadata": {},
   "outputs": [],
   "source": [
    "import pandas as pd\n",
    "import numpy as np\n",
    "import xml.etree.ElementTree as ET\n",
    "import heapq\n",
    "from tqdm import tqdm"
   ]
  },
  {
   "cell_type": "code",
   "execution_count": 96,
   "metadata": {},
   "outputs": [],
   "source": [
    "dataset = 'stackexchange-chemistry'\n",
    "methods = ['CHAWE', 'HAWE','hin2vec','node2bits','deepWalk','struc2vec']\n",
    "#methods = ['HAWE','hin2vec','node2bits','deepWalk','struc2vec','GraphSTONE']\n",
    "userDoubleIds = np.loadtxt('../dataset/{}/userInfo.txt'.format(dataset), dtype = int)\n",
    "userNid2Oid = dict(userDoubleIds)\n",
    "userOid2Nid = dict(userDoubleIds[:,[1,0]])"
   ]
  },
  {
   "cell_type": "code",
   "execution_count": 97,
   "metadata": {},
   "outputs": [
    {
     "name": "stdout",
     "output_type": "stream",
     "text": [
      "9323\n"
     ]
    }
   ],
   "source": [
    "users= dict()\n",
    "with open('../dataset/{}/Users.xml'.format(dataset), 'r') as xml_file:\n",
    "    tree = ET.parse(xml_file)\n",
    "    root = tree.getroot()\n",
    "    for row in root:\n",
    "        userinfo = row.attrib\n",
    "        userOid  = userinfo.pop('Id')\n",
    "        users[userOid] = {'reputation': userinfo.pop('Reputation'), 'upvotes': userinfo.pop('UpVotes'), 'downvotes': userinfo.pop('DownVotes')}\n",
    "print(len(users))"
   ]
  },
  {
   "cell_type": "code",
   "execution_count": 100,
   "metadata": {},
   "outputs": [
    {
     "name": "stderr",
     "output_type": "stream",
     "text": [
      "  1%|          | 6/804 [00:00<00:15, 52.24it/s]"
     ]
    },
    {
     "name": "stdout",
     "output_type": "stream",
     "text": [
      "CHAWE (804, 128)\n"
     ]
    },
    {
     "name": "stderr",
     "output_type": "stream",
     "text": [
      "100%|██████████| 804/804 [00:16<00:00, 49.49it/s]\n",
      "  5%|▌         | 22/402 [00:00<00:03, 107.97it/s]"
     ]
    },
    {
     "name": "stdout",
     "output_type": "stream",
     "text": [
      "HAWE (402, 128)\n"
     ]
    },
    {
     "name": "stderr",
     "output_type": "stream",
     "text": [
      "100%|██████████| 402/402 [00:04<00:00, 96.75it/s] \n",
      "  5%|▌         | 22/402 [00:00<00:03, 107.97it/s]"
     ]
    },
    {
     "name": "stdout",
     "output_type": "stream",
     "text": [
      "hin2vec (402, 128)\n"
     ]
    },
    {
     "name": "stderr",
     "output_type": "stream",
     "text": [
      "100%|██████████| 402/402 [00:04<00:00, 97.00it/s] \n",
      "  3%|▎         | 13/402 [00:00<00:03, 121.14it/s]"
     ]
    },
    {
     "name": "stdout",
     "output_type": "stream",
     "text": [
      "node2bits (402, 128)\n"
     ]
    },
    {
     "name": "stderr",
     "output_type": "stream",
     "text": [
      "100%|██████████| 402/402 [00:03<00:00, 107.02it/s]\n",
      "  5%|▌         | 22/402 [00:00<00:03, 105.88it/s]"
     ]
    },
    {
     "name": "stdout",
     "output_type": "stream",
     "text": [
      "deepWalk (402, 128)\n"
     ]
    },
    {
     "name": "stderr",
     "output_type": "stream",
     "text": [
      "100%|██████████| 402/402 [00:06<00:00, 60.64it/s] \n",
      "  1%|▏         | 6/402 [00:00<00:06, 58.92it/s]"
     ]
    },
    {
     "name": "stdout",
     "output_type": "stream",
     "text": [
      "struc2vec (402, 128)\n"
     ]
    },
    {
     "name": "stderr",
     "output_type": "stream",
     "text": [
      "100%|██████████| 402/402 [00:04<00:00, 84.13it/s] \n"
     ]
    }
   ],
   "source": [
    "results = {}\n",
    "K = 5\n",
    "for method in methods:\n",
    "    results[method] = {}\n",
    "    df = pd.read_csv(\"../embedding/{}-{}.embeddings\".format(method, dataset), skiprows=1, header=None, sep=' ')\n",
    "    embeddings = df.loc[df[0].str.contains('U')]\n",
    "    embeddings.reset_index(drop=True, inplace=True)\n",
    "    tmpEmbeddings = embeddings.copy()\n",
    "    tmpEmbeddings.drop([df.columns[0]], axis=1,inplace=True)\n",
    "    embed_matrix = tmpEmbeddings.values\n",
    "    print(method,embed_matrix.shape)\n",
    "    for i in tqdm(range(len(embeddings))):\n",
    "        distances = []\n",
    "        for j in range(len(embeddings)):\n",
    "            if i == j:\n",
    "                continue\n",
    "            distances.append({'id': embeddings[0][j],'dis': np.linalg.norm(embed_matrix[i]-embed_matrix[j])})\n",
    "        \n",
    "        closestK = heapq.nsmallest(K, distances, lambda x:x[\"dis\"])\n",
    "        results[method][embeddings[0][i]] = [closeuser['id'] for closeuser in closestK]"
   ]
  },
  {
   "cell_type": "code",
   "execution_count": 101,
   "metadata": {},
   "outputs": [],
   "source": [
    "with open('{}-results.txt'.format(dataset), 'w', encoding='utf-8') as rf:\n",
    "    for inu in userNid2Oid:\n",
    "        nu = 'U'+str(inu)\n",
    "        ou = str(userNid2Oid[int(nu[1:])])\n",
    "        rf.write('Target user OID-{}: reputation-{}, upvote-{}, downvote-{}.\\n'.format(ou, users[ou]['reputation'], users[ou]['upvotes'], users[ou]['downvotes']))\n",
    "        for method in methods:\n",
    "            for nc in results[method][nu]:\n",
    "                oc = str(userNid2Oid[int(nc[1:])])\n",
    "                rf.write('{}-- user OID-{}: reputation-{}, upvote-{}, downvote-{}.\\n'.format(method, oc, users[oc]['reputation'], users[oc]['upvotes'], users[oc]['downvotes']))\n",
    "\n",
    "        rf.write('\\n')"
   ]
  },
  {
   "cell_type": "code",
   "execution_count": null,
   "metadata": {},
   "outputs": [],
   "source": []
  }
 ],
 "metadata": {
  "kernelspec": {
   "display_name": "Python 3",
   "language": "python",
   "name": "python3"
  },
  "language_info": {
   "codemirror_mode": {
    "name": "ipython",
    "version": 3
   },
   "file_extension": ".py",
   "mimetype": "text/x-python",
   "name": "python",
   "nbconvert_exporter": "python",
   "pygments_lexer": "ipython3",
   "version": "3.6.9"
  }
 },
 "nbformat": 4,
 "nbformat_minor": 4
}
