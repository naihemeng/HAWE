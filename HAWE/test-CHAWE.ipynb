{
 "cells": [
  {
   "cell_type": "code",
   "execution_count": 12,
   "metadata": {},
   "outputs": [
    {
     "name": "stdout",
     "output_type": "stream",
     "text": [
      "The Heterogeneous graph has 24 nodes & 36 edges.\n",
      "24\n"
     ]
    }
   ],
   "source": [
    "from HAWE import HeteroGraph\n",
    "import networkx as nx\n",
    "dataset = 'pinwheel'\n",
    "#dataset = 'airports'\n",
    "#dataset = 'stackexchange-fit'\n",
    "\n",
    "edgefile = \"../dataset/{}/alledges.txt\".format(dataset)\n",
    "typefile = \"../dataset/{}/alltypes.txt\".format(dataset)\n",
    "embfile = \"../embedding/CHAWE-{}.embeddings\".format(dataset)\n",
    "\n",
    "if dataset == 'aminer':\n",
    "    typename = ['V', 'P', 'A']\n",
    "elif dataset == 'imdb':\n",
    "    typename = ['D', 'M', 'A']\n",
    "elif dataset == 'grant':\n",
    "    typename = ['G', 'P', 'A']\n",
    "elif 'airports' in dataset:\n",
    "    typename = ['A', 'C']\n",
    "elif 'stackexchange' in dataset:\n",
    "    typename = ['A', 'Q', 'U']\n",
    "else:\n",
    "    typename = 'ABCDEFGHIJKLMN' \n",
    "HG = HeteroGraph(edgefile, typefile, typename)\n",
    "largest_components=max(nx.connected_components(HG.HG),key=len) \n",
    "print(len(largest_components))"
   ]
  },
  {
   "cell_type": "code",
   "execution_count": 17,
   "metadata": {},
   "outputs": [
    {
     "name": "stdout",
     "output_type": "stream",
     "text": [
      "Generating Walk Corpus\n",
      "Consumed time for generating corpus: 0.605644941329956\n"
     ]
    }
   ],
   "source": [
    "HG.generate_walk_corpus(length=6, numWalksPerNode = 1024, workers = 16, minCount = 1, method = 'CH')"
   ]
  },
  {
   "cell_type": "code",
   "execution_count": 18,
   "metadata": {},
   "outputs": [],
   "source": [
    "docs = HG.gensim_doc2vec_examples(degreeTagged = False)"
   ]
  },
  {
   "cell_type": "code",
   "execution_count": 19,
   "metadata": {},
   "outputs": [
    {
     "name": "stdout",
     "output_type": "stream",
     "text": [
      "5.7496421337127686\n"
     ]
    }
   ],
   "source": [
    "from gensim.models import Doc2Vec\n",
    "import time\n",
    "start = time.time()\n",
    "model = Doc2Vec(docs, dm=1, vector_size=2, window=5, hs=1, min_count=1, epochs=100, workers=16, dm_mean = 0)\n",
    "print(time.time()-start)"
   ]
  },
  {
   "cell_type": "code",
   "execution_count": 20,
   "metadata": {},
   "outputs": [],
   "source": [
    "import os\n",
    "if os.path.isfile(embfile):\n",
    "    os.remove(embfile)\n",
    "model.save_word2vec_format(embfile, doctag_vec=True, word_vec=False, prefix='')"
   ]
  },
  {
   "cell_type": "code",
   "execution_count": null,
   "metadata": {},
   "outputs": [],
   "source": []
  }
 ],
 "metadata": {
  "kernelspec": {
   "display_name": "Python 3",
   "language": "python",
   "name": "python3"
  },
  "language_info": {
   "codemirror_mode": {
    "name": "ipython",
    "version": 3
   },
   "file_extension": ".py",
   "mimetype": "text/x-python",
   "name": "python",
   "nbconvert_exporter": "python",
   "pygments_lexer": "ipython3",
   "version": "3.6.9"
  }
 },
 "nbformat": 4,
 "nbformat_minor": 4
}
