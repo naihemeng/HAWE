{
 "cells": [
  {
   "cell_type": "code",
   "execution_count": 5,
   "metadata": {},
   "outputs": [],
   "source": [
    "import xml.etree.ElementTree as ET\n",
    "import pandas as pd\n",
    "import networkx as nx\n",
    "from collections import Counter"
   ]
  },
  {
   "cell_type": "code",
   "execution_count": 6,
   "metadata": {},
   "outputs": [
    {
     "name": "stdout",
     "output_type": "stream",
     "text": [
      "{'AcceptedAnswerId': '4', 'CreationDate': '2014-01-21T20:26:05.383', 'Score': '20', 'ViewCount': '2399', 'Body': '<p>I was offered a beer the other day that was reportedly made with citra hops. What are citra hops? Why should I care that my beer is made with them?</p>\\n', 'OwnerUserId': '7', 'LastEditorUserId': '8', 'LastEditDate': '2014-01-21T22:04:34.977', 'LastActivityDate': '2014-01-21T22:04:34.977', 'Title': 'What is a citra hop, and how does it differ from other hops?', 'Tags': '<hops>', 'AnswerCount': '1', 'CommentCount': '0', 'ContentLicense': 'CC BY-SA 3.0'}\n"
     ]
    }
   ],
   "source": [
    "with open('Posts.xml', 'r') as xml_file:\n",
    "    tree = ET.parse(xml_file)\n",
    "    postroot = tree.getroot()\n",
    "    users, questions, answers= dict(), dict(), dict()\n",
    "    for postrow in postroot:\n",
    "        post = postrow.attrib\n",
    "        post_ori_Id  = post.pop('Id')\n",
    "        posttype = post.pop('PostTypeId')\n",
    "        if posttype == '1':\n",
    "            assert post_ori_Id not in questions\n",
    "            questions[post_ori_Id] = post\n",
    "        elif posttype == '2':\n",
    "            assert post_ori_Id not in answers\n",
    "            answers[post_ori_Id] = post\n",
    "            answers[post_ori_Id]['Accepted'] = False\n",
    "print(questions['1'])"
   ]
  },
  {
   "cell_type": "code",
   "execution_count": 7,
   "metadata": {},
   "outputs": [
    {
     "name": "stdout",
     "output_type": "stream",
     "text": [
      "4509 5275\n",
      "Counter({('A', 'Q'): 2343, ('A', 'U'): 2343, ('Q', 'U'): 589})\n"
     ]
    }
   ],
   "source": [
    "G = nx.Graph()\n",
    "for asr in answers.keys():\n",
    "    if 'OwnerUserId' in answers[asr]:\n",
    "        ques = answers[asr]['ParentId']\n",
    "        usr = answers[asr]['OwnerUserId']\n",
    "        G.add_edge('A'+asr, 'Q'+ques)\n",
    "        G.add_edge('A'+asr, 'U'+usr)\n",
    "for que in questions.keys():\n",
    "    if 'OwnerUserId' in questions[que]:\n",
    "        usr = questions[que]['OwnerUserId']\n",
    "        G.add_edge('U'+usr, 'Q'+ques)\n",
    "    \n",
    "largest_components=max(nx.connected_components(G),key=len) \n",
    "len(largest_components)\n",
    "NG = G.subgraph(largest_components)\n",
    "print(len(NG.nodes()), len(NG.edges()))\n",
    "el = []\n",
    "for n1,n2 in NG.edges():\n",
    "    s = n1[0]\n",
    "    t = n2[0]\n",
    "    if s < t:\n",
    "        el.append((s,t))\n",
    "    else:\n",
    "        el.append((t,s))\n",
    "print(Counter(el))\n",
    "user_Id, question_Id, answer_Id = 0, 0, 0\n",
    "for node in NG.nodes():\n",
    "    if node[0] == 'U':\n",
    "        if node[1:] not in users:\n",
    "            users[node[1:]] = {'UId': user_Id}\n",
    "            user_Id += 1\n",
    "    elif node[0] == 'A':\n",
    "        answers[node[1:]]['AId'] = answer_Id\n",
    "        answer_Id += 1\n",
    "    elif node[0] == 'Q':\n",
    "        questions[node[1:]]['QId'] = question_Id\n",
    "        question_Id += 1"
   ]
  },
  {
   "cell_type": "code",
   "execution_count": 40,
   "metadata": {},
   "outputs": [
    {
     "name": "stdout",
     "output_type": "stream",
     "text": [
      "saved\n"
     ]
    }
   ],
   "source": [
    "def Id_ori2new(ori_Id):\n",
    "    if ori_Id[0] == 'U':\n",
    "        return users[ori_Id[1:]]['UId'] + question_Id + answer_Id\n",
    "    elif ori_Id[0] == 'A':\n",
    "        return answers[ori_Id[1:]]['AId']\n",
    "    elif ori_Id[0] == 'Q':\n",
    "        return questions[ori_Id[1:]]['QId'] + answer_Id\n",
    "    \n",
    "with open('alledges.txt','w',encoding = 'utf-8') as ef:\n",
    "    for n1, n2 in  NG.edges():\n",
    "        ef.write(\"{}\\t{}\\n\".format(Id_ori2new(n1), Id_ori2new(n2)))\n",
    "print('saved')"
   ]
  },
  {
   "cell_type": "code",
   "execution_count": 41,
   "metadata": {},
   "outputs": [
    {
     "name": "stdout",
     "output_type": "stream",
     "text": [
      "saved\n"
     ]
    }
   ],
   "source": [
    "with open('alltypes.txt','w',encoding = 'utf-8') as tf:\n",
    "    tf.write(\"0\\t{}\\t{}\\n\".format(0, answer_Id-1))\n",
    "    tf.write(\"1\\t{}\\t{}\\n\".format(answer_Id, answer_Id-1 + question_Id))\n",
    "    tf.write(\"2\\t{}\\t{}\\n\".format(answer_Id+question_Id, answer_Id-1 + question_Id + user_Id))\n",
    "print('saved')"
   ]
  },
  {
   "cell_type": "code",
   "execution_count": 42,
   "metadata": {},
   "outputs": [
    {
     "name": "stdout",
     "output_type": "stream",
     "text": [
      "saved\n",
      "2343 659\n"
     ]
    }
   ],
   "source": [
    "acc_count = 0\n",
    "for que in questions.keys():\n",
    "    if 'AcceptedAnswerId' in questions[que]:\n",
    "        acc_Id = questions[que]['AcceptedAnswerId']\n",
    "        answers[acc_Id]['Accepted'] = True\n",
    "        acc_count += 1\n",
    "\n",
    "with open('answersLabelAcception.txt','w',encoding = 'utf-8') as lf:\n",
    "    for n in NG.nodes():\n",
    "        if n[0] == 'A':\n",
    "            \n",
    "            if not answers[n[1:]]['Accepted']:\n",
    "                lf.write(\"{}\\t0\\n\".format(answers[n[1:]]['AId']))\n",
    "            else:\n",
    "                lf.write(\"{}\\t1\\n\".format(answers[n[1:]]['AId']))\n",
    "print('saved')\n",
    "print(answer_Id, acc_count)"
   ]
  },
  {
   "cell_type": "code",
   "execution_count": 45,
   "metadata": {},
   "outputs": [
    {
     "name": "stdout",
     "output_type": "stream",
     "text": [
      "[-6, 1, 2, 5, 45]\n",
      "0    760\n",
      "2    685\n",
      "3    453\n",
      "1    445\n",
      "Name: label, dtype: int64\n"
     ]
    }
   ],
   "source": [
    "import math\n",
    "import numpy as np\n",
    "scorecount = {}\n",
    "aidlist = []\n",
    "scorelist = []\n",
    "\n",
    "for n in NG.nodes():\n",
    "    if n[0] == 'A':\n",
    "        aidlist.append(answers[n[1:]]['AId'])\n",
    "        scorelist.append(int(answers[n[1:]]['Score']))\n",
    "df = pd.DataFrame.from_dict({'aid': aidlist, 'score': scorelist})\n",
    "space = [df.score.min()-1]\n",
    "scorelistcp = sorted(scorelist)\n",
    "N = 4\n",
    "rg = int(len(scorelistcp) / N)+1\n",
    "for i in range(1,N):\n",
    "    space.append(scorelistcp[rg*i])\n",
    "space.append(df.score.max())\n",
    "#print(scorelistcp)\n",
    "print(space)\n",
    "df['label']=pd.cut(df['score'],bins=space,labels=list(range(N)))\n",
    "print(df.label.value_counts())\n",
    "\n",
    "with open('answersLabelScore.txt','w',encoding = 'utf-8') as lf:\n",
    "    for DFId, ansrow in df.iterrows():\n",
    "        lf.write(\"{}\\t{}\\n\".format(ansrow[0], ansrow[2]))\n"
   ]
  },
  {
   "cell_type": "code",
   "execution_count": 21,
   "metadata": {},
   "outputs": [
    {
     "name": "stdout",
     "output_type": "stream",
     "text": [
      "[-8, 4, 7, 67]\n",
      "0    422\n",
      "1    296\n",
      "2    287\n",
      "Name: label, dtype: int64\n"
     ]
    }
   ],
   "source": [
    "import math\n",
    "import numpy as np\n",
    "scorecount = {}\n",
    "qidlist = []\n",
    "scorelist = []\n",
    "\n",
    "for n in NG.nodes():\n",
    "    if n[0] == 'Q':\n",
    "        qidlist.append(questions[n[1:]]['QId'] + answer_Id)\n",
    "        scorelist.append(int(questions[n[1:]]['Score']))\n",
    "df = pd.DataFrame.from_dict({'qid': qidlist, 'score': scorelist})\n",
    "space = [df.score.min()-1]\n",
    "scorelistcp = sorted(scorelist)\n",
    "N = 3\n",
    "rg = int(len(scorelistcp) / N)+1\n",
    "for i in range(1,N):\n",
    "    space.append(scorelistcp[rg*i])\n",
    "space.append(df.score.max())\n",
    "print(space)\n",
    "df['label']=pd.cut(df['score'],bins=space,labels=list(range(N)))\n",
    "print(df.label.value_counts())\n",
    "\n",
    "with open('questionsLabelScore.txt','w',encoding = 'utf-8') as lf:\n",
    "    for DFId, querow in df.iterrows():\n",
    "        lf.write(\"{}\\t{}\\n\".format(querow[0], querow[2]))"
   ]
  },
  {
   "cell_type": "code",
   "execution_count": 22,
   "metadata": {},
   "outputs": [],
   "source": [
    "with open('userInfo.txt','w',encoding = 'utf-8') as uf:\n",
    "    for usr in users.keys():\n",
    "        uf.write(\"{}\\t{}\\n\".format(users[usr]['UId']+answer_Id+question_Id, usr))"
   ]
  },
  {
   "cell_type": "code",
   "execution_count": 29,
   "metadata": {},
   "outputs": [
    {
     "name": "stdout",
     "output_type": "stream",
     "text": [
      "[0, 41, 151, 9345]\n",
      "0    398\n",
      "1    396\n",
      "2    367\n",
      "Name: label, dtype: int64\n"
     ]
    }
   ],
   "source": [
    "import math\n",
    "import numpy as np\n",
    "with open('Users.xml', 'r') as xml_file:\n",
    "    tree = ET.parse(xml_file)\n",
    "    userroot = tree.getroot()\n",
    "    for userrow in userroot:\n",
    "        user = userrow.attrib\n",
    "        user_ori_Id  = user.pop('Id')\n",
    "        reputation = user.pop('Reputation')\n",
    "        if user_ori_Id in users.keys():\n",
    "            users[user_ori_Id]['Repu'] = int(reputation)\n",
    "uidlist = []\n",
    "repuList = []\n",
    "for n in NG.nodes():\n",
    "    if n[0] == 'U':\n",
    "        uidlist.append(users[n[1:]]['UId']+answer_Id+question_Id)\n",
    "        repuList.append(users[n[1:]]['Repu'])\n",
    "df = pd.DataFrame.from_dict({'uid': uidlist, 'repu': repuList})\n",
    "space = [df.repu.min()-1]\n",
    "repulistcp = sorted(repuList)\n",
    "N = 3\n",
    "rg = int(len(repulistcp) / N)+1\n",
    "for i in range(1,N):\n",
    "    space.append(repulistcp[rg*i])\n",
    "space.append(df.repu.max())\n",
    "print(space)\n",
    "df['label']=pd.cut(df['repu'],bins=space,labels=list(range(N)))\n",
    "print(df.label.value_counts())\n",
    "with open('userReputation.txt','w',encoding = 'utf-8') as lf:\n",
    "    for DFId, userrow in df.iterrows():\n",
    "        lf.write(\"{}\\t{}\\n\".format(userrow[0], userrow[2]))"
   ]
  },
  {
   "cell_type": "code",
   "execution_count": null,
   "metadata": {},
   "outputs": [],
   "source": []
  }
 ],
 "metadata": {
  "kernelspec": {
   "display_name": "Python 3",
   "language": "python",
   "name": "python3"
  },
  "language_info": {
   "codemirror_mode": {
    "name": "ipython",
    "version": 3
   },
   "file_extension": ".py",
   "mimetype": "text/x-python",
   "name": "python",
   "nbconvert_exporter": "python",
   "pygments_lexer": "ipython3",
   "version": "3.6.9"
  }
 },
 "nbformat": 4,
 "nbformat_minor": 4
}
