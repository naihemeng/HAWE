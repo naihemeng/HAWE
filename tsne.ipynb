{
 "cells": [
  {
   "cell_type": "code",
   "execution_count": 10,
   "metadata": {},
   "outputs": [
    {
     "name": "stdout",
     "output_type": "stream",
     "text": [
      "HAWE (24, 2)\n",
      "24\n",
      "CHAWE (24, 2)\n",
      "24\n"
     ]
    },
    {
     "data": {
      "image/png": "[encoded data removed]",
      "text/plain": [
       "<Figure size 432x432 with 1 Axes>"
      ]
     },
     "metadata": {},
     "output_type": "display_data"
    },
    {
     "data": {
      "image/png": "[encoded data removed]",
      "text/plain": [
       "<Figure size 432x432 with 1 Axes>"
      ]
     },
     "metadata": {},
     "output_type": "display_data"
    }
   ],
   "source": [
    "import matplotlib\n",
    "import matplotlib.pyplot as plt\n",
    "%matplotlib inline\n",
    "import networkx as nx\n",
    "import warnings\n",
    "import numpy as np\n",
    "import os\n",
    "from sklearn.manifold import TSNE\n",
    "from sklearn.decomposition import PCA\n",
    "import pandas as pd\n",
    "from tqdm import tqdm\n",
    "\n",
    "t = {'deepWalk':'DeepWalk', 'node2vec':'Node2vec','node2bits':'NODE2BITS','hin2vec':'HIN2vec','struc2vec':'struc2vec','metapath2vec':'metapath2vec','HAWE':'HAWE',\n",
    "    'GraphSTONE':'GraphSTONE', 'RGCN':\"RGCN\",'AWE':'AWE','CHAWE':'CHAWE'}\n",
    "markers = ['o', 's', 'H', 'D']\n",
    "warnings.filterwarnings(\"ignore\")\n",
    "\n",
    "def vis(method, embed, types, label):\n",
    "    color_pool = ['#2980B9', '#E74C3C', '#548235', '#F7DC6F', '#B9770E', '#8E44AD', '#797D7F', '#7B241C', '#EC7063', '#884EA0',\n",
    "                     '#AF7AC5', '#5DADE2', '#1ABC9C', '#27AE60', '#F39C12', '#EDBB99', '#F5B7B1', '#FAD7A0']\n",
    "    color_pool_rgb = [{'r': 41, 'g': 128, 'b': 185}, {'r': 231, 'g': 76, 'b': 60}, {'r': 72, 'g': 201, 'b': 176}, {'r': 247, 'g': 220, 'b': 111},\n",
    "                  {'r': 185, 'g': 119, 'b': 14}, {'r': 142, 'g': 68, 'b': 173}, {'r': 121, 'g': 125, 'b': 127}, {'r': 123, 'g': 36, 'b': 28},\n",
    "                  {'r': 236, 'g': 112, 'b': 99}, {'r': 136, 'g': 78, 'b': 160}, {'r': 175, 'g': 122, 'b': 197}, {'r': 93, 'g': 173, 'b': 226},\n",
    "                  {'r': 26, 'g': 188, 'b': 156}, {'r': 39, 'g': 174, 'b': 96}, {'r': 243, 'g': 156, 'b': 18}, {'r': 237, 'g': 187, 'b': 153},\n",
    "                  {'r': 245, 'g': 183, 'b': 177}, {'r': 250, 'g': 215, 'b': 160}]\n",
    "    #tsne = TSNE()\n",
    "    #emb = tsne.fit_transform(embed)\n",
    "    #pca = PCA(n_components=2)\n",
    "    #emb = pca.fit_transform(embed)\n",
    "    emb = embed\n",
    "    print(method, embed.shape)\n",
    "    X = emb\n",
    "    x_min, x_max = np.min(X, 0), np.max(X, 0)\n",
    "    X = (X - x_min) / (x_max - x_min)\n",
    "    plt.figure(figsize=(6, 6))           \n",
    "    print(X.shape[0])\n",
    "    for i in range(X.shape[0]):\n",
    "        plt.scatter(X[i, 0], X[i, 1], color=color_pool[label[i] % len(color_pool)], s=200, marker=markers[ord(types[i])-ord('A')])\n",
    "    #plt.title(t[method], fontsize=28,y=1.02)\n",
    "    plt.xticks([]), plt.yticks([])\n",
    "    fig = plt.gcf()\n",
    "    fig.savefig('vis/2D_{}_{}.pdf'.format(dataset, method),bbox_inches='tight', pad_inches=0, format='pdf')\n",
    "    \n",
    "\n",
    "dataset = 'pinwheel'\n",
    "label = np.loadtxt(\"dataset/{}/alllabels.txt\".format(dataset), delimiter='\\t', dtype=np.int)\n",
    "#methods = ['hin2vec','struc2vec','deepWalk','GraphSTONE','RGCN', 'AWE', 'HAWE','CHAWE']\n",
    "methods = ['HAWE','CHAWE']\n",
    "for method in methods:\n",
    "    \n",
    "    embeddings = pd.read_csv(\"embedding/{}-{}.embeddings\".format(method, dataset), skiprows=1, header=None, sep=' ')\n",
    "    types = [eid[0] for eid in embeddings[0].values.tolist()]\n",
    "    lbl = [label[int(eid[1:])][1] for eid in embeddings[0].values.tolist()]\n",
    "    embeddings.reset_index(drop=True, inplace=True)\n",
    "    embeddings.drop([embeddings.columns[0]], axis=1,inplace=True)\n",
    "    embed = embeddings.values\n",
    "    vis(method,embed, types, lbl)"
   ]
  },
  {
   "cell_type": "code",
   "execution_count": null,
   "metadata": {},
   "outputs": [],
   "source": []
  },
  {
   "cell_type": "code",
   "execution_count": null,
   "metadata": {},
   "outputs": [],
   "source": []
  }
 ],
 "metadata": {
  "kernelspec": {
   "display_name": "Python 3",
   "language": "python",
   "name": "python3"
  },
  "language_info": {
   "codemirror_mode": {
    "name": "ipython",
    "version": 3
   },
   "file_extension": ".py",
   "mimetype": "text/x-python",
   "name": "python",
   "nbconvert_exporter": "python",
   "pygments_lexer": "ipython3",
   "version": "3.6.9"
  }
 },
 "nbformat": 4,
 "nbformat_minor": 4
}
