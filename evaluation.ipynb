{
 "cells": [
  {
   "cell_type": "code",
   "execution_count": 8,
   "metadata": {},
   "outputs": [],
   "source": [
    "from task import Task\n",
    "import numpy as np\n",
    "import pandas as pd\n",
    "import warnings\n",
    "warnings.filterwarnings(\"ignore\")\n",
    "typename = 'ABCDEFGHIJKLMN'"
   ]
  },
  {
   "cell_type": "code",
   "execution_count": 9,
   "metadata": {},
   "outputs": [],
   "source": [
    "def evaluate(method, df, dataset, sp, loop, nodeType = None, labelfile = None):    \n",
    "    embeddings = df.loc[df[0].str.contains(nodeType)]\n",
    "    embeddings.reset_index(drop=True, inplace=True)\n",
    "    #labelfile = 'answersLabelAcception'\n",
    "    #labelfile = 'answersLabelScore'\n",
    "    label = np.loadtxt(\"dataset/{}/{}.txt\".format(dataset, labelfile), dtype=np.int)\n",
    "    print(label[:,1].max()+1)\n",
    "    node2index = {}\n",
    "    for i in range(len(embeddings)):\n",
    "        node2index[embeddings[0][i]] = i\n",
    "    # delete label -1 which means the truth is unknown\n",
    "    delindices = np.where(label[:,1]==-1)[0]\n",
    "    label = np.delete(label, delindices, axis=0)\n",
    "\n",
    "    indicesList = []\n",
    "    for i in range(len(label)):\n",
    "        node = nodeType+str(label[i][0])\n",
    "        if node not in node2index:\n",
    "            print(node)\n",
    "        assert node in node2index\n",
    "        indicesList.append(node2index[node])\n",
    "        label[i][0] = i\n",
    "    embeddings.drop([df.columns[0]], axis=1,inplace=True) \n",
    "    embed = embeddings.values[indicesList]\n",
    "\n",
    "    task = Task('CLF')\n",
    "    task.classfication(embed, label, split_ratio=sp, loop=loop)"
   ]
  },
  {
   "cell_type": "code",
   "execution_count": 11,
   "metadata": {},
   "outputs": [
    {
     "name": "stderr",
     "output_type": "stream",
     "text": [
      "  0%|          | 0/50 [00:00<?, ?it/s]"
     ]
    },
    {
     "name": "stdout",
     "output_type": "stream",
     "text": [
      "HAWE\n",
      "3\n"
     ]
    },
    {
     "name": "stderr",
     "output_type": "stream",
     "text": [
      "100%|██████████| 50/50 [00:06<00:00,  7.85it/s]"
     ]
    },
    {
     "name": "stdout",
     "output_type": "stream",
     "text": [
      "average performance. f1-micro|f1-macro: 0.4137 +/- 0.0177|0.4069 +/- 0.0172\n"
     ]
    },
    {
     "name": "stderr",
     "output_type": "stream",
     "text": [
      "\n"
     ]
    }
   ],
   "source": [
    "dataset = 'stackexchange-chemistry'\n",
    "#dataset = 'airports'\n",
    "graphid = 1\n",
    "#methods = [ 'HAWE','hin2vec','node2bits','deepWalk','struc2vec','GraphSTONE']\n",
    "#methods = ['CHAWE']\n",
    "methods = ['HAWE']\n",
    "#methods = ['RGCN', 'HGT']\n",
    "for method in methods:\n",
    "    df = pd.read_csv(\"embedding/{}-{}.embeddings\".format(method, dataset), skiprows=1, header=None, sep=' ')  \n",
    "    print(method)\n",
    "    evaluate(method, df, dataset, 0.7, 50, nodeType = 'A', labelfile = 'answersLabelScore') #answersLabelScore #userReputation #airportsLabel"
   ]
  },
  {
   "cell_type": "code",
   "execution_count": null,
   "metadata": {},
   "outputs": [],
   "source": []
  }
 ],
 "metadata": {
  "kernelspec": {
   "display_name": "Python 3",
   "language": "python",
   "name": "python3"
  },
  "language_info": {
   "codemirror_mode": {
    "name": "ipython",
    "version": 3
   },
   "file_extension": ".py",
   "mimetype": "text/x-python",
   "name": "python",
   "nbconvert_exporter": "python",
   "pygments_lexer": "ipython3",
   "version": "3.6.9"
  }
 },
 "nbformat": 4,
 "nbformat_minor": 4
}
